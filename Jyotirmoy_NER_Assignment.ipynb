{
 "cells": [
  {
   "cell_type": "markdown",
   "id": "a499a5d4",
   "metadata": {},
   "source": [
    "### Identifying Entities in Healthcare Data"
   ]
  },
  {
   "cell_type": "code",
   "execution_count": 1,
   "id": "6ecf95c5",
   "metadata": {},
   "outputs": [
    {
     "name": "stdout",
     "output_type": "stream",
     "text": [
      "Requirement already satisfied: pycrf in /Users/jyotirmoyghosh/anaconda3/lib/python3.11/site-packages (0.0.1)\n",
      "Requirement already satisfied: sklearn-crfsuite in /Users/jyotirmoyghosh/anaconda3/lib/python3.11/site-packages (0.3.6)\n",
      "Requirement already satisfied: python-crfsuite>=0.8.3 in /Users/jyotirmoyghosh/anaconda3/lib/python3.11/site-packages (from sklearn-crfsuite) (0.9.10)\n",
      "Requirement already satisfied: six in /Users/jyotirmoyghosh/anaconda3/lib/python3.11/site-packages (from sklearn-crfsuite) (1.16.0)\n",
      "Requirement already satisfied: tabulate in /Users/jyotirmoyghosh/anaconda3/lib/python3.11/site-packages (from sklearn-crfsuite) (0.8.10)\n",
      "Requirement already satisfied: tqdm>=2.0 in /Users/jyotirmoyghosh/anaconda3/lib/python3.11/site-packages (from sklearn-crfsuite) (4.65.0)\n",
      "Requirement already satisfied: spacy in /Users/jyotirmoyghosh/anaconda3/lib/python3.11/site-packages (3.7.4)\n",
      "Requirement already satisfied: spacy-legacy<3.1.0,>=3.0.11 in /Users/jyotirmoyghosh/anaconda3/lib/python3.11/site-packages (from spacy) (3.0.12)\n",
      "Requirement already satisfied: spacy-loggers<2.0.0,>=1.0.0 in /Users/jyotirmoyghosh/anaconda3/lib/python3.11/site-packages (from spacy) (1.0.5)\n",
      "Requirement already satisfied: murmurhash<1.1.0,>=0.28.0 in /Users/jyotirmoyghosh/anaconda3/lib/python3.11/site-packages (from spacy) (1.0.10)\n",
      "Requirement already satisfied: cymem<2.1.0,>=2.0.2 in /Users/jyotirmoyghosh/anaconda3/lib/python3.11/site-packages (from spacy) (2.0.8)\n",
      "Requirement already satisfied: preshed<3.1.0,>=3.0.2 in /Users/jyotirmoyghosh/anaconda3/lib/python3.11/site-packages (from spacy) (3.0.9)\n",
      "Requirement already satisfied: thinc<8.3.0,>=8.2.2 in /Users/jyotirmoyghosh/anaconda3/lib/python3.11/site-packages (from spacy) (8.2.3)\n",
      "Requirement already satisfied: wasabi<1.2.0,>=0.9.1 in /Users/jyotirmoyghosh/anaconda3/lib/python3.11/site-packages (from spacy) (1.1.2)\n",
      "Requirement already satisfied: srsly<3.0.0,>=2.4.3 in /Users/jyotirmoyghosh/anaconda3/lib/python3.11/site-packages (from spacy) (2.4.8)\n",
      "Requirement already satisfied: catalogue<2.1.0,>=2.0.6 in /Users/jyotirmoyghosh/anaconda3/lib/python3.11/site-packages (from spacy) (2.0.10)\n",
      "Requirement already satisfied: weasel<0.4.0,>=0.1.0 in /Users/jyotirmoyghosh/anaconda3/lib/python3.11/site-packages (from spacy) (0.3.4)\n",
      "Requirement already satisfied: typer<0.10.0,>=0.3.0 in /Users/jyotirmoyghosh/anaconda3/lib/python3.11/site-packages (from spacy) (0.9.4)\n",
      "Requirement already satisfied: smart-open<7.0.0,>=5.2.1 in /Users/jyotirmoyghosh/anaconda3/lib/python3.11/site-packages (from spacy) (5.2.1)\n",
      "Requirement already satisfied: tqdm<5.0.0,>=4.38.0 in /Users/jyotirmoyghosh/anaconda3/lib/python3.11/site-packages (from spacy) (4.65.0)\n",
      "Requirement already satisfied: requests<3.0.0,>=2.13.0 in /Users/jyotirmoyghosh/anaconda3/lib/python3.11/site-packages (from spacy) (2.31.0)\n",
      "Requirement already satisfied: pydantic!=1.8,!=1.8.1,<3.0.0,>=1.7.4 in /Users/jyotirmoyghosh/anaconda3/lib/python3.11/site-packages (from spacy) (2.6.4)\n",
      "Requirement already satisfied: jinja2 in /Users/jyotirmoyghosh/anaconda3/lib/python3.11/site-packages (from spacy) (3.1.2)\n",
      "Requirement already satisfied: setuptools in /Users/jyotirmoyghosh/anaconda3/lib/python3.11/site-packages (from spacy) (68.0.0)\n",
      "Requirement already satisfied: packaging>=20.0 in /Users/jyotirmoyghosh/anaconda3/lib/python3.11/site-packages (from spacy) (23.0)\n",
      "Requirement already satisfied: langcodes<4.0.0,>=3.2.0 in /Users/jyotirmoyghosh/anaconda3/lib/python3.11/site-packages (from spacy) (3.3.0)\n",
      "Requirement already satisfied: numpy>=1.19.0 in /Users/jyotirmoyghosh/anaconda3/lib/python3.11/site-packages (from spacy) (1.24.3)\n",
      "Requirement already satisfied: annotated-types>=0.4.0 in /Users/jyotirmoyghosh/anaconda3/lib/python3.11/site-packages (from pydantic!=1.8,!=1.8.1,<3.0.0,>=1.7.4->spacy) (0.6.0)\n",
      "Requirement already satisfied: pydantic-core==2.16.3 in /Users/jyotirmoyghosh/anaconda3/lib/python3.11/site-packages (from pydantic!=1.8,!=1.8.1,<3.0.0,>=1.7.4->spacy) (2.16.3)\n",
      "Requirement already satisfied: typing-extensions>=4.6.1 in /Users/jyotirmoyghosh/anaconda3/lib/python3.11/site-packages (from pydantic!=1.8,!=1.8.1,<3.0.0,>=1.7.4->spacy) (4.7.1)\n",
      "Requirement already satisfied: charset-normalizer<4,>=2 in /Users/jyotirmoyghosh/anaconda3/lib/python3.11/site-packages (from requests<3.0.0,>=2.13.0->spacy) (2.0.4)\n",
      "Requirement already satisfied: idna<4,>=2.5 in /Users/jyotirmoyghosh/anaconda3/lib/python3.11/site-packages (from requests<3.0.0,>=2.13.0->spacy) (3.4)\n",
      "Requirement already satisfied: urllib3<3,>=1.21.1 in /Users/jyotirmoyghosh/anaconda3/lib/python3.11/site-packages (from requests<3.0.0,>=2.13.0->spacy) (1.26.16)\n",
      "Requirement already satisfied: certifi>=2017.4.17 in /Users/jyotirmoyghosh/anaconda3/lib/python3.11/site-packages (from requests<3.0.0,>=2.13.0->spacy) (2024.2.2)\n",
      "Requirement already satisfied: blis<0.8.0,>=0.7.8 in /Users/jyotirmoyghosh/anaconda3/lib/python3.11/site-packages (from thinc<8.3.0,>=8.2.2->spacy) (0.7.11)\n",
      "Requirement already satisfied: confection<1.0.0,>=0.0.1 in /Users/jyotirmoyghosh/anaconda3/lib/python3.11/site-packages (from thinc<8.3.0,>=8.2.2->spacy) (0.1.4)\n",
      "Requirement already satisfied: click<9.0.0,>=7.1.1 in /Users/jyotirmoyghosh/anaconda3/lib/python3.11/site-packages (from typer<0.10.0,>=0.3.0->spacy) (8.0.4)\n",
      "Requirement already satisfied: cloudpathlib<0.17.0,>=0.7.0 in /Users/jyotirmoyghosh/anaconda3/lib/python3.11/site-packages (from weasel<0.4.0,>=0.1.0->spacy) (0.16.0)\n",
      "Requirement already satisfied: MarkupSafe>=2.0 in /Users/jyotirmoyghosh/anaconda3/lib/python3.11/site-packages (from jinja2->spacy) (2.1.1)\n"
     ]
    }
   ],
   "source": [
    "# Import libraries and packages\n",
    "\n",
    "!pip install pycrf\n",
    "!pip install sklearn-crfsuite\n",
    "!pip install spacy\n",
    "\n",
    "import spacy\n",
    "import sklearn_crfsuite\n",
    "from sklearn_crfsuite import metrics\n",
    "\n",
    "model = spacy.load(\"en_core_web_sm\")"
   ]
  },
  {
   "cell_type": "markdown",
   "id": "6ec4b102",
   "metadata": {},
   "source": [
    "### Data Preprocessing - Convert word per line to sentences"
   ]
  },
  {
   "cell_type": "code",
   "execution_count": 2,
   "id": "6e854c22",
   "metadata": {},
   "outputs": [],
   "source": [
    "## Read the datasets\n",
    "\n",
    "# Reading the train and test sentences and labels\n",
    "with open('train_sent', 'r') as train_sent_file:\n",
    "  train_words = train_sent_file.readlines()\n",
    "\n",
    "with open('train_label', 'r') as train_labels_file:\n",
    "  train_labels_by_word = train_labels_file.readlines()\n",
    "\n",
    "with open('test_sent', 'r') as test_sent_file:\n",
    "  test_words = test_sent_file.readlines()\n",
    "\n",
    "with open('test_label', 'r') as test_labels_file:\n",
    "  test_labels_by_word = test_labels_file.readlines()"
   ]
  },
  {
   "cell_type": "code",
   "execution_count": 3,
   "id": "0e6848a3",
   "metadata": {},
   "outputs": [
    {
     "name": "stdout",
     "output_type": "stream",
     "text": [
      "Count of tokens in training set\n",
      " No. of words:  48501 \n",
      "No. of labels:  48501\n",
      "\n",
      "\n",
      "Count of tokens in test set\n",
      " No. of words:  19674 \n",
      "No. of labels:  19674\n"
     ]
    }
   ],
   "source": [
    "# Count the number or tokens and labels - they should match\n",
    "print(\"Count of tokens in training set\\n\",\"No. of words: \",len(train_words),\"\\nNo. of labels: \",len(train_labels_by_word))\n",
    "print(\"\\n\\nCount of tokens in test set\\n\",\"No. of words: \",len(test_words),\"\\nNo. of labels: \",len(test_labels_by_word))"
   ]
  },
  {
   "cell_type": "code",
   "execution_count": 4,
   "id": "b7e9605b",
   "metadata": {},
   "outputs": [],
   "source": [
    "# Creat a function to combine tokens into sentences separated by \"\\n\"\n",
    "def convert_to_sentences(dataset):\n",
    "    sent_list = []\n",
    "    sent = \"\"\n",
    "    for entity in dataset:\n",
    "        if entity != '\\n':\n",
    "            sent = sent + entity[:-1] + \" \"\n",
    "        else: \n",
    "            sent_list.append(sent[:-1]) \n",
    "            sent = \"\"\n",
    "    return sent_list"
   ]
  },
  {
   "cell_type": "code",
   "execution_count": 5,
   "id": "3fd2ba78",
   "metadata": {},
   "outputs": [],
   "source": [
    "# Converting tokens to sentences and individual labels\n",
    "train_sentences = convert_to_sentences(train_words)\n",
    "train_labels = convert_to_sentences(train_labels_by_word)\n",
    "test_sentences = convert_to_sentences(test_words)\n",
    "test_labels = convert_to_sentences(test_labels_by_word)"
   ]
  },
  {
   "cell_type": "code",
   "execution_count": 6,
   "id": "6e641c61",
   "metadata": {},
   "outputs": [
    {
     "name": "stdout",
     "output_type": "stream",
     "text": [
      "First five training sentences and their labels:\n",
      "\n",
      "All live births > or = 23 weeks at the University of Vermont in 1995 ( n = 2395 ) were retrospectively analyzed for delivery route , indication for cesarean , gestational age , parity , and practice group ( to reflect risk status ) \n",
      " O O O O O O O O O O O O O O O O O O O O O O O O O O O O O O O O O O O O O O O O O O O O O \n",
      "\n",
      "The total cesarean rate was 14.4 % ( 344 of 2395 ) , and the primary rate was 11.4 % ( 244 of 2144 ) \n",
      " O O O O O O O O O O O O O O O O O O O O O O O O O \n",
      "\n",
      "Abnormal presentation was the most common indication ( 25.6 % , 88 of 344 ) \n",
      " O O O O O O O O O O O O O O O \n",
      "\n",
      "The `` corrected '' cesarean rate ( maternal-fetal medicine and transported patients excluded ) was 12.4 % ( 273 of 2194 ) , and the `` corrected '' primary rate was 9.6 % ( 190 of 1975 ) \n",
      " O O O O O O O O O O O O O O O O O O O O O O O O O O O O O O O O O O O O O O \n",
      "\n",
      "Arrest of dilation was the most common indication in both `` corrected '' subgroups ( 23.4 and 24.6 % , respectively ) \n",
      " O O O O O O O O O O O O O O O O O O O O O O \n",
      "\n"
     ]
    }
   ],
   "source": [
    "## Print 5 training sentences and their corresponding labels\n",
    "\n",
    "print(\"First five training sentences and their labels:\\n\")\n",
    "for i in range(5):\n",
    "    print(train_sentences[i],\"\\n\",train_labels[i],\"\\n\")"
   ]
  },
  {
   "cell_type": "code",
   "execution_count": 7,
   "id": "8feeefe3",
   "metadata": {},
   "outputs": [
    {
     "name": "stdout",
     "output_type": "stream",
     "text": [
      "First five test sentences and their labels:\n",
      "\n",
      "Furthermore , when all deliveries were analyzed , regardless of risk status but limited to gestational age > or = 36 weeks , the rates did not change ( 12.6 % , 280 of 2214 ; primary 9.2 % , 183 of 1994 ) \n",
      " O O O O O O O O O O O O O O O O O O O O O O O O O O O O O O O O O O O O O O O O O O O O \n",
      "\n",
      "As the ambient temperature increases , there is an increase in insensible fluid loss and the potential for dehydration \n",
      " O O O O O O O O O O O O O O O O O O O \n",
      "\n",
      "The daily high temperature ranged from 71 to 104 degrees F and AFI values ranged from 1.7 to 24.7 cm during the study period \n",
      " O O O O O O O O O O O O O O O O O O O O O O O O \n",
      "\n",
      "There was a significant correlation between the 2- , 3- , and 4-day mean temperature and AFI , with the 4-day mean being the most significant ( r = 0.31 , p & # 60 ; 0.001 ) \n",
      " O O O O O O O O O O O O O O O O O O O O O O O O O O O O O O O O O O O O O O \n",
      "\n",
      "Fluctuations in ambient temperature are inversely correlated to changes in AFI \n",
      " O O O O O O O O O O O \n",
      "\n"
     ]
    }
   ],
   "source": [
    "## Print 5 test sentences and their corresponding labels\n",
    "\n",
    "print(\"First five test sentences and their labels:\\n\")\n",
    "for i in range(5):\n",
    "    print(test_sentences[i],\"\\n\",test_labels[i],\"\\n\")"
   ]
  },
  {
   "cell_type": "markdown",
   "id": "7f723a0e",
   "metadata": {},
   "source": [
    "### Count the number of lines of labels in the processed train and test dataset."
   ]
  },
  {
   "cell_type": "code",
   "execution_count": 8,
   "id": "49a01ba5",
   "metadata": {},
   "outputs": [
    {
     "name": "stdout",
     "output_type": "stream",
     "text": [
      "Number of lines of labels in the train dataset: 2599\n",
      "Number of lines of labels in the test dataset: 1056\n"
     ]
    }
   ],
   "source": [
    "print(\"Number of lines of labels in the train dataset: {}\".format(len(train_labels)))\n",
    "print(\"Number of lines of labels in the test dataset: {}\".format(len(test_labels)))"
   ]
  },
  {
   "cell_type": "markdown",
   "id": "1dc93cb7",
   "metadata": {},
   "source": [
    "### Count the number of sentences in the processed train and test dataset"
   ]
  },
  {
   "cell_type": "code",
   "execution_count": 9,
   "id": "6fe0cbf8",
   "metadata": {},
   "outputs": [
    {
     "name": "stdout",
     "output_type": "stream",
     "text": [
      "Number of sentences in the train dataset: 2599\n",
      "Number of sentences in the test dataset: 1056\n"
     ]
    }
   ],
   "source": [
    "print(\"Number of sentences in the train dataset: {}\".format(len(train_sentences)))\n",
    "print(\"Number of sentences in the test dataset: {}\".format(len(test_sentences)))"
   ]
  },
  {
   "cell_type": "markdown",
   "id": "cee663fe",
   "metadata": {},
   "source": [
    "### Let's do the POS tagging to extract NOUN & PNOUN along with frequency"
   ]
  },
  {
   "cell_type": "code",
   "execution_count": 10,
   "id": "fa28da0a",
   "metadata": {},
   "outputs": [
    {
     "name": "stdout",
     "output_type": "stream",
     "text": [
      "Number of sentences in combined dataset (training + test): 3655\n"
     ]
    }
   ],
   "source": [
    "# Combined train and test sentences\n",
    "combined_sent = train_sentences + test_sentences\n",
    "print(\"Number of sentences in combined dataset (training + test): {}\".format(len(combined_sent)))"
   ]
  },
  {
   "cell_type": "code",
   "execution_count": 11,
   "id": "5737bad4",
   "metadata": {},
   "outputs": [
    {
     "name": "stdout",
     "output_type": "stream",
     "text": [
      "No. of tokens in combined dataset with PoS tag of 'NOUN' or 'PROPN': 24373\n"
     ]
    }
   ],
   "source": [
    "# List of tokens which have PoS tag of 'NOUN' or 'PROPN'\n",
    "noun_propn = []         \n",
    "pos_tag = []            \n",
    "for sent in combined_sent:\n",
    "    for token in model(sent):\n",
    "        if token.pos_ in ['NOUN', 'PROPN']:\n",
    "           noun_propn.append(token.text)\n",
    "           pos_tag.append(token.pos_)\n",
    "print(\"No. of tokens in combined dataset with PoS tag of 'NOUN' or 'PROPN': {}\".format(len(noun_propn)))"
   ]
  },
  {
   "cell_type": "markdown",
   "id": "c97417dc",
   "metadata": {},
   "source": [
    "### Print the top 25 most common tokens with NOUN or PROPN PoS tags"
   ]
  },
  {
   "cell_type": "code",
   "execution_count": 14,
   "id": "8e8d0d6a",
   "metadata": {},
   "outputs": [
    {
     "name": "stdout",
     "output_type": "stream",
     "text": [
      "Top 25 comon tokens with PoS tag of 'NOUN' or 'PROPN' \n",
      "\n",
      "patients        492\n",
      "treatment       281\n",
      "%               247\n",
      "cancer          200\n",
      "therapy         175\n",
      "study           154\n",
      "disease         142\n",
      "cell            140\n",
      "lung            116\n",
      "group            94\n",
      "chemotherapy     88\n",
      "gene             87\n",
      "effects          85\n",
      "results          79\n",
      "women            77\n",
      "use              74\n",
      "TO_SEE           74\n",
      "risk             71\n",
      "surgery          71\n",
      "cases            71\n",
      "analysis         70\n",
      "rate             67\n",
      "response         66\n",
      "survival         65\n",
      "children         64\n",
      "Name: NOUN_PROPN, dtype: int64\n"
     ]
    }
   ],
   "source": [
    "import pandas as pd\n",
    "noun_pos = pd.DataFrame({\"NOUN_PROPN\":noun_propn,\"POS_tag\":pos_tag})\n",
    "print(\"Top 25 comon tokens with PoS tag of 'NOUN' or 'PROPN' \\n\")\n",
    "print(noun_pos[\"NOUN_PROPN\"].value_counts().head(25))"
   ]
  },
  {
   "cell_type": "markdown",
   "id": "da66c61b",
   "metadata": {},
   "source": [
    "### Features for CRF"
   ]
  },
  {
   "cell_type": "code",
   "execution_count": 17,
   "id": "30e4eb82",
   "metadata": {},
   "outputs": [
    {
     "name": "stdout",
     "output_type": "stream",
     "text": [
      "The total cesarean rate was 14.4 % ( 344 of 2395 ) , and the primary rate was 11.4 % ( 244 of 2144 )\n",
      "\n",
      "PoS tag of word in isolation\n",
      "Word: cesarean -- VERB \n",
      "\n",
      "PoS tag of all words in sentence with context in tact.\n",
      "The -- DET\n",
      "total -- ADJ\n",
      "cesarean -- ADJ\n",
      "rate -- NOUN\n",
      "was -- AUX\n",
      "14.4 -- NUM\n",
      "% -- NOUN\n",
      "( -- PUNCT\n",
      "344 -- NUM\n",
      "of -- ADP\n",
      "2395 -- NUM\n",
      ") -- PUNCT\n",
      ", -- PUNCT\n",
      "and -- CCONJ\n",
      "the -- DET\n",
      "primary -- ADJ\n",
      "rate -- NOUN\n",
      "was -- AUX\n",
      "11.4 -- NUM\n",
      "% -- NOUN\n",
      "( -- PUNCT\n",
      "244 -- NUM\n",
      "of -- ADP\n",
      "2144 -- NUM\n",
      ") -- PUNCT\n",
      "\n",
      "Result of modified workflow to obtain PoS tag of word at a specific position while keeping context within sentence in-tact.\n",
      "Word: cesarean POSTAG: ADJ\n"
     ]
    }
   ],
   "source": [
    "sentence = train_sentences[1]   \n",
    "sent_list = sentence.split()      \n",
    "position = 2                      \n",
    "\n",
    "word = sent_list[position]        # Extracting word for PoS tag analysis.\n",
    "\n",
    "print(sentence)\n",
    "\n",
    "print(\"\\nPoS tag of word in isolation\\nWord:\",word,\"--\",model(word)[0].pos_,\"\\n\")\n",
    "\n",
    "print(\"PoS tag of all words in sentence with context in tact.\")\n",
    "for token in model(sentence):\n",
    "    print(token.text, \"--\", token.pos_)\n",
    "\n",
    "# Modified workflow to obtain PoS tag of specific word in question while keeping sentence context in tact.\n",
    "print(\"\\nResult of modified workflow to obtain PoS tag of word at a specific position while keeping context within sentence in-tact.\")\n",
    "cnt = 0\n",
    "for token in model(sentence):\n",
    "      postag = token.pos_\n",
    "      if (token.text == word) and (cnt == position):\n",
    "          break\n",
    "      cnt += 1\n",
    "print(\"Word:\", word,\"POSTAG:\",postag)"
   ]
  },
  {
   "cell_type": "markdown",
   "id": "8dbcaf8a",
   "metadata": {},
   "source": [
    "#### The work cesarean seems fine when part of sentence but incorrect individually"
   ]
  },
  {
   "cell_type": "code",
   "execution_count": 19,
   "id": "145e41dd",
   "metadata": {},
   "outputs": [],
   "source": [
    "# Function to obtain contextual PoS tagger.\n",
    "def contextual_pos_tagger(sent_list,position):\n",
    "    '''Obtaining PoS tag for individual word with sentence context in-tact. \n",
    "       If the PoS tag is obtained for a word individually, it may not capture the context of use in the sentence and may assign the incorrect PoS tag.'''\n",
    "\n",
    "    sentence = \" \".join(sent_list)          \n",
    "    posit = 0\n",
    "    for token in model(sentence):\n",
    "        postag = token.pos_\n",
    "        if (token.text == word) and (posit == position):\n",
    "            break\n",
    "        posit += 1\n",
    "    return postag"
   ]
  },
  {
   "cell_type": "code",
   "execution_count": 20,
   "id": "9151eb59",
   "metadata": {},
   "outputs": [],
   "source": [
    "# Define the features to get the feature values for one word.\n",
    "def getFeaturesForOneWord(sent_list, position):\n",
    "  word = sent_list[position]\n",
    "    \n",
    "  # Obtaining features for current word\n",
    "  features = [\n",
    "    'word.lower=' + word.lower(),                                   \n",
    "    'word.postag=' + contextual_pos_tagger(sent_list, position),    \n",
    "    'word[-3:]=' + word[-3:],                                       \n",
    "    'word[-2:]=' + word[-2:],                                       \n",
    "    'word.isupper=%s' % word.isupper(),                             \n",
    "    'word.isdigit=%s' % word.isdigit(),                             \n",
    "    'words.startsWithCapital=%s' % word[0].isupper()                \n",
    "  ]\n",
    " \n",
    "  if(position > 0):\n",
    "    prev_word = sent_list[position-1]\n",
    "    features.extend([\n",
    "    'prev_word.lower=' + prev_word.lower(),                               \n",
    "    'prev_word.postag=' + contextual_pos_tagger(sent_list, position - 1), \n",
    "    'prev_word.isupper=%s' % prev_word.isupper(),                         \n",
    "    'prev_word.isdigit=%s' % prev_word.isdigit(),                         \n",
    "    'prev_words.startsWithCapital=%s' % prev_word[0].isupper()            \n",
    "  ])\n",
    "  else:\n",
    "    features.append('BEG')                                                 \n",
    " \n",
    "  if(position == len(sent_list)-1):\n",
    "    features.append('END')                                                \n",
    " \n",
    "  return features"
   ]
  },
  {
   "cell_type": "markdown",
   "id": "ab33b4c8",
   "metadata": {},
   "source": [
    "### Getting the features"
   ]
  },
  {
   "cell_type": "code",
   "execution_count": 21,
   "id": "43072e68",
   "metadata": {},
   "outputs": [],
   "source": [
    "# Code to get features for a sentence.\n",
    "def getFeaturesForOneSentence(sentence):\n",
    "  sentence_list = sentence.split()\n",
    "  return [getFeaturesForOneWord(sentence_list, position) for position in range(len(sentence_list))]"
   ]
  },
  {
   "cell_type": "code",
   "execution_count": 22,
   "id": "ec62c5fc",
   "metadata": {},
   "outputs": [
    {
     "name": "stdout",
     "output_type": "stream",
     "text": [
      "Cesarean rates at tertiary care hospitals should be compared with rates at community hospitals only after correcting for dissimilar patient groups or gestational age\n"
     ]
    },
    {
     "data": {
      "text/plain": [
       "['word.lower=cesarean',\n",
       " 'word.postag=NOUN',\n",
       " 'word[-3:]=ean',\n",
       " 'word[-2:]=an',\n",
       " 'word.isupper=False',\n",
       " 'word.isdigit=False',\n",
       " 'words.startsWithCapital=True',\n",
       " 'BEG']"
      ]
     },
     "execution_count": 22,
     "metadata": {},
     "output_type": "execute_result"
    }
   ],
   "source": [
    "# Check feature extraction\n",
    "example_sentence = train_sentences[5]\n",
    "print(example_sentence)\n",
    "\n",
    "features = getFeaturesForOneSentence(example_sentence)\n",
    "features[0]"
   ]
  },
  {
   "cell_type": "code",
   "execution_count": 23,
   "id": "6e5d0761",
   "metadata": {},
   "outputs": [
    {
     "data": {
      "text/plain": [
       "['word.lower=hospitals',\n",
       " 'word.postag=NOUN',\n",
       " 'word[-3:]=als',\n",
       " 'word[-2:]=ls',\n",
       " 'word.isupper=False',\n",
       " 'word.isdigit=False',\n",
       " 'words.startsWithCapital=False',\n",
       " 'prev_word.lower=care',\n",
       " 'prev_word.postag=NOUN',\n",
       " 'prev_word.isupper=False',\n",
       " 'prev_word.isdigit=False',\n",
       " 'prev_words.startsWithCapital=False']"
      ]
     },
     "execution_count": 23,
     "metadata": {},
     "output_type": "execute_result"
    }
   ],
   "source": [
    "features[5]"
   ]
  },
  {
   "cell_type": "code",
   "execution_count": 24,
   "id": "bd43e2cf",
   "metadata": {},
   "outputs": [],
   "source": [
    "# Code to get the labels for a sentence.\n",
    "def getLabelsInListForOneSentence(labels):\n",
    "  return labels.split()"
   ]
  },
  {
   "cell_type": "code",
   "execution_count": 25,
   "id": "0bb3624d",
   "metadata": {},
   "outputs": [
    {
     "name": "stdout",
     "output_type": "stream",
     "text": [
      "['O', 'O', 'O', 'O', 'O', 'O', 'O', 'O', 'O', 'O', 'O', 'O', 'O', 'O', 'O', 'O', 'O', 'O', 'O', 'O', 'O', 'O', 'O', 'O']\n"
     ]
    }
   ],
   "source": [
    "# Check label extraction\n",
    "example_labels = getLabelsInListForOneSentence(train_labels[5])\n",
    "print(example_labels)"
   ]
  },
  {
   "cell_type": "markdown",
   "id": "1d186f2f",
   "metadata": {},
   "source": [
    "### Input and target variables"
   ]
  },
  {
   "cell_type": "code",
   "execution_count": 26,
   "id": "99fe6676",
   "metadata": {},
   "outputs": [],
   "source": [
    "X_train = [getFeaturesForOneSentence(sentence) for sentence in train_sentences]\n",
    "X_test = [getFeaturesForOneSentence(sentence) for sentence in test_sentences]"
   ]
  },
  {
   "cell_type": "markdown",
   "id": "c3d10533",
   "metadata": {},
   "source": [
    "### Labels as the target variable for test and the train dataset"
   ]
  },
  {
   "cell_type": "code",
   "execution_count": 27,
   "id": "7446254c",
   "metadata": {},
   "outputs": [],
   "source": [
    "Y_train = [getLabelsInListForOneSentence(labels) for labels in train_labels]\n",
    "Y_test = [getLabelsInListForOneSentence(labels) for labels in test_labels]"
   ]
  },
  {
   "cell_type": "markdown",
   "id": "6aaf39ad",
   "metadata": {},
   "source": [
    "### CRF Model"
   ]
  },
  {
   "cell_type": "code",
   "execution_count": 31,
   "id": "72836664",
   "metadata": {},
   "outputs": [],
   "source": [
    "# Build CRF model using 300 iterations\n",
    "crf = sklearn_crfsuite.CRF(max_iterations=300)\n",
    "try:\n",
    "    crf.fit(X_train, Y_train)\n",
    "except AttributeError:\n",
    "    pass\n",
    "predictions = crf.predict(X_test)"
   ]
  },
  {
   "cell_type": "markdown",
   "id": "934232ed",
   "metadata": {},
   "source": [
    "### Evaluation"
   ]
  },
  {
   "cell_type": "markdown",
   "id": "ab26be8e",
   "metadata": {},
   "source": [
    "#### Predict the labels of each of the tokens in each sentence of the test dataset that has been pre processed earlier."
   ]
  },
  {
   "cell_type": "code",
   "execution_count": 32,
   "id": "fe19077e",
   "metadata": {},
   "outputs": [],
   "source": [
    "Y_pred = crf.predict(X_test)"
   ]
  },
  {
   "cell_type": "markdown",
   "id": "69141655",
   "metadata": {},
   "source": [
    "### f1 score using the actual labels and the predicted labels of the test dataset"
   ]
  },
  {
   "cell_type": "code",
   "execution_count": 33,
   "id": "0f9e70ee",
   "metadata": {},
   "outputs": [
    {
     "data": {
      "text/plain": [
       "0.908051252636922"
      ]
     },
     "execution_count": 33,
     "metadata": {},
     "output_type": "execute_result"
    }
   ],
   "source": [
    "metrics.flat_f1_score(Y_test, Y_pred, average='weighted')"
   ]
  },
  {
   "cell_type": "markdown",
   "id": "da48f130",
   "metadata": {},
   "source": [
    "#### -  f1 score of 91% seems pretty good"
   ]
  },
  {
   "cell_type": "code",
   "execution_count": 34,
   "id": "cef0c7e7",
   "metadata": {},
   "outputs": [
    {
     "name": "stdout",
     "output_type": "stream",
     "text": [
      "Sentence:  The rate of severe preeclampsia was increased significantly in the triplet group 12 of 53 ( 22.6 % ) as compared with the twin group 3 of 53 ( 5.7 % ) ( OR = 4.9 , 95 % CI 1.2-23.5 , p = 0.02 )\n",
      "Actual labels:     ['O', 'O', 'O', 'O', 'D', 'O', 'O', 'O', 'O', 'O', 'O', 'O', 'O', 'O', 'O', 'O', 'O', 'O', 'O', 'O', 'O', 'O', 'O', 'O', 'O', 'O', 'O', 'O', 'O', 'O', 'O', 'O', 'O', 'O', 'O', 'O', 'O', 'O', 'O', 'O', 'O', 'O', 'O', 'O', 'O', 'O']\n",
      "Predicted labels:  ['O', 'O', 'O', 'D', 'D', 'O', 'O', 'O', 'O', 'O', 'O', 'O', 'O', 'O', 'O', 'O', 'O', 'O', 'O', 'O', 'O', 'O', 'O', 'O', 'O', 'O', 'O', 'O', 'O', 'O', 'O', 'O', 'O', 'O', 'O', 'O', 'O', 'O', 'O', 'O', 'O', 'O', 'O', 'O', 'O', 'O']\n"
     ]
    }
   ],
   "source": [
    "# Example test sentence and corresponding actual and predicted labels \n",
    "print(\"Sentence: \",test_sentences[15])\n",
    "print(\"Actual labels:    \", Y_test[15])\n",
    "print(\"Predicted labels: \", Y_pred[15])"
   ]
  },
  {
   "cell_type": "markdown",
   "id": "eac74216",
   "metadata": {},
   "source": [
    "### Identifying Diseases and Treatments using Custom NER"
   ]
  },
  {
   "cell_type": "code",
   "execution_count": 45,
   "id": "2a25fc0b",
   "metadata": {},
   "outputs": [],
   "source": [
    "# Extracting a dictionary of all the predicted diseases from our test data and the corresponding treatments.\n",
    "disease_treatment = {}            \n",
    "for i in range(len(Y_pred)):\n",
    "    cnt_disease = 0           \n",
    "    cnt_treatment = 0         \n",
    "    diseases = [\"\"]           \n",
    "    treatment = [\"\"]          \n",
    "    length = len(Y_pred[i])   \n",
    "    for j in range(length):\n",
    "        # Checking for label indicating disease for current word ('D')\n",
    "        if (Y_pred[i][j] == 'D'):                                                     \n",
    "            diseases[cnt_disease] += (X_test[i][j][0].split('=')[1] + \" \")            \n",
    "            if j < length - 1:\n",
    "                if (Y_pred[i][j+1] != 'D'):                                            \n",
    "                    # If next word does not have label 'D', then truncate the space added at the end of the last word.\n",
    "                    diseases[cnt_disease] = diseases[cnt_disease][:-1]\n",
    "                    cnt_disease += 1\n",
    "                    diseases.append(\"\")                                               \n",
    "            else:\n",
    "                diseases[cnt_disease] = diseases[cnt_disease][:-1]\n",
    "                cnt_disease += 1\n",
    "                diseases.append(\"\")\n",
    "       # Checking for label indicating treatment for current word ('T')     \n",
    "        if (Y_pred[i][j] == 'T'):                                                     \n",
    "            treatment[cnt_treatment] += (X_test[i][j][0].split('=')[1] + \" \")\n",
    "            if j < length - 1:\n",
    "                if (Y_pred[i][j+1] != 'T'):                                            \n",
    "                    # If next word does not have label 'T', then truncate the space added at the end of the last word.\n",
    "                    treatment[cnt_treatment] = treatment[cnt_treatment][:-1]\n",
    "                    cnt_treatment += 1\n",
    "                    treatment.append(\"\")                                              \n",
    "                treatment[cnt_treatment] = treatment[cnt_treatment][:-1]\n",
    "                cnt_treatment += 1\n",
    "                treatment.append(\"\")\n",
    "\n",
    "    diseases.pop(-1)    \n",
    "    treatment.pop(-1)   \n",
    "    \n",
    "    if len(diseases) > 0:       \n",
    "        for disease in diseases:\n",
    "            if disease in disease_treatment.keys():\n",
    "                # Extend treatment list if other treatments for the particular disease already exist\n",
    "                disease_treatment[disease].extend(treatment)\n",
    "            else:\n",
    "                # Creating list of treatments for particular disease if it doesn not exist already.\n",
    "                disease_treatment[disease] = treatment"
   ]
  },
  {
   "cell_type": "code",
   "execution_count": 46,
   "id": "bbde8c7a",
   "metadata": {},
   "outputs": [],
   "source": [
    "# Displaying dictionary of extracted diseases and potential treatments.\n",
    "disease_treatment = {}          \n",
    "for i in range(len(Y_pred)):\n",
    "    cnt_disease = 0           \n",
    "    cnt_treatment = 0         \n",
    "    diseases = [\"\"]           \n",
    "    treatment = [\"\"]          \n",
    "    length = len(Y_pred[i])   \n",
    "    for j in range(length):\n",
    "        # Checking for label indicating disease for current word ('D')\n",
    "        if (Y_pred[i][j] == 'D'):                                                     \n",
    "            diseases[cnt_disease] += (X_test[i][j][0].split('=')[1] + \" \")            \n",
    "            if j < length - 1:\n",
    "                if (Y_pred[i][j+1] != 'D'):                                            \n",
    "                    # If next word does not have label 'D', then truncate the space added at the end of the last word.\n",
    "                    diseases[cnt_disease] = diseases[cnt_disease][:-1]\n",
    "                    cnt_disease += 1\n",
    "                    diseases.append(\"\")                                               \n",
    "            else:\n",
    "                diseases[cnt_disease] = diseases[cnt_disease][:-1]\n",
    "                cnt_disease += 1\n",
    "                diseases.append(\"\")\n",
    "     # Checking for label indicating treatment for current word ('T')                       \n",
    "        if (Y_pred[i][j] == 'T'):                                                     \n",
    "            treatment[cnt_treatment] += (X_test[i][j][0].split('=')[1] + \" \") \n",
    "            if j < length - 1:\n",
    "                if (Y_pred[i][j+1] != 'T'):                                            \n",
    "                    # If next word does not have label 'T', then truncate the space added at the end of the last word.\n",
    "                    treatment[cnt_treatment] = treatment[cnt_treatment][:-1]\n",
    "                    cnt_treatment += 1\n",
    "                    treatment.append(\"\")                                              \n",
    "            else:\n",
    "                treatment[cnt_treatment] = treatment[cnt_treatment][:-1]\n",
    "                cnt_treatment += 1\n",
    "                treatment.append(\"\")\n",
    "\n",
    "    diseases.pop(-1)    \n",
    "    treatment.pop(-1)   \n",
    "    \n",
    "    if len(diseases) > 0:       \n",
    "        for disease in diseases:\n",
    "            if disease in disease_treatment.keys():\n",
    "                # Extend treatment list if other treatments for the particular disease already exist\n",
    "                disease_treatment[disease].extend(treatment)\n",
    "            else:\n",
    "                # Creating list of treatments for particular disease if it doesn not exist already.\n",
    "                disease_treatment[disease] = treatment"
   ]
  },
  {
   "cell_type": "code",
   "execution_count": 47,
   "id": "337b3336",
   "metadata": {},
   "outputs": [
    {
     "data": {
      "text/plain": [
       "{'breast cancer': ['hormone replacement therapy',\n",
       "  'undergone subcutaneous mastectomy'],\n",
       " 'ovarian cancer': ['hormone replacement therapy',\n",
       "  'undergone subcutaneous mastectomy'],\n",
       " 'prostate cancer': ['radical prostatectomy and iodine 125 interstitial radiotherapy'],\n",
       " 'mutated prostate cancer': ['radical prostatectomy and iodine 125 interstitial radiotherapy'],\n",
       " 'hereditary retinoblastoma': ['radiotherapy'],\n",
       " 'unstable angina or non-q-wave myocardial infarction': ['roxithromycin'],\n",
       " 'coronary-artery disease': ['antichlamydial antibiotics'],\n",
       " 'cerebral palsy': ['hyperbaric oxygen therapy'],\n",
       " 'primary pulmonary hypertension ( pph )': ['fenfluramines'],\n",
       " 'cellulitis': ['g-csf therapy', 'intravenous antibiotic treatment'],\n",
       " 'foot infection': ['g-csf treatment'],\n",
       " \"early parkinson 's disease\": ['ropinirole monotherapy'],\n",
       " 'sore throat': ['antibiotics'],\n",
       " 'female stress urinary incontinence': ['surgical treatment'],\n",
       " 'stress urinary incontinence': ['therapy'],\n",
       " 'preeclampsia ( proteinuric hypertension )': ['intrauterine insemination with donor sperm versus intrauterine insemination'],\n",
       " 'severe acquired hyperammonemia': ['organ transplantation and chemotherapy',\n",
       "  'matrix metalloproteinase inhibitors'],\n",
       " 'cancer': ['organ transplantation and chemotherapy',\n",
       "  'matrix metalloproteinase inhibitors'],\n",
       " 'major pulmonary embolism': ['thrombolytic treatment'],\n",
       " 'malignant pleural mesothelioma': ['thoracotomy , radiotherapy , and chemotherapy'],\n",
       " 'pulmonary symptoms attributable': ['chemotherapy'],\n",
       " 'non-obstructive azoospermia': ['testicular sperm retrieval by testicular fine needle aspiration ( tefna )',\n",
       "  'open biopsy and testicular sperm extraction ( tese )'],\n",
       " 'colorectal cancer': ['elective surgery',\n",
       "  'docosahexanoic acid ( dha ) -concentrated fish oil'],\n",
       " 'gastrointestinal tumours': ['elective surgery'],\n",
       " 'multiple sclerosis': ['interferon beta treatment',\n",
       "  'intravenous immunoglobulin treatment'],\n",
       " \"parkinson 's disease\": ['microelectrode-guided posteroventral pallidotomy'],\n",
       " 'soft tissue sarcomas': ['radiotherapy'],\n",
       " \"eisenmenger 's syndrome\": ['laparoscopic cholecystectomy'],\n",
       " 'advanced esophageal cancer': ['adjuvant chemoradiotherapy with cddp'],\n",
       " 'leukemia': ['trisomy'],\n",
       " 'inoperable advanced malignancies such as colorectal cancer': ['combination with leucovorin or cisplatin'],\n",
       " 'inflammatory skin diseases': ['topical corticosteroids'],\n",
       " 'nsclc': ['got surgical treatment',\n",
       "  'radiotherapy',\n",
       "  'got surgical treatment',\n",
       "  'radiotherapy',\n",
       "  'platinum-based chemotherapy'],\n",
       " 'sclc': ['got surgical treatment',\n",
       "  'radiotherapy',\n",
       "  'got surgical treatment',\n",
       "  'radiotherapy',\n",
       "  'platinum-based chemotherapy'],\n",
       " 'acute rejection episode': ['therapy with extracorporeal photopheresis'],\n",
       " 'locally advanced non-small-cell lung cancer ( la-nsclc )': ['chemotherapy and radiotherapy )'],\n",
       " 'radiation-induced myelopathy': ['heparin and enoxaparin'],\n",
       " 'limited stage small cell lung cancer': ['vip combination chemotherapy and early concurrent thoracic irradiation'],\n",
       " 'malignant pleural effusions from nsclc': ['systemic chemotherapy'],\n",
       " 'small-cell lung cancer': ['chemotherapy', 'combination chemotherapy'],\n",
       " 'supraclavicular node metastases in nsclc': ['chemoradiotherapy'],\n",
       " 'non-small-cell-lung-cancer ( nsclc )': ['cisplatin and radiotherapy'],\n",
       " 'lung carcinoma': ['videothoracoscopic lobectomy or partial resection',\n",
       "  'open thoracotomy'],\n",
       " 'stage 0 lung carcinoma': ['curative therapy'],\n",
       " 'melanoma': ['surgical resection'],\n",
       " 'ovarian carcinoma brain metastasis': ['surgical resection'],\n",
       " 'colorectal metastases': ['therapeutic vats metastasectomy'],\n",
       " 'advanced nsclc': ['assessing combination chemotherapy of cisplatin , ifosfamide and irinotecan with rhg-csf support'],\n",
       " 'metastatic colorectal cancer': ['intravenous oxaliplatin'],\n",
       " 'platinum-pretreated ovarian cancer': ['oxaliplatin'],\n",
       " \"non-hodgkin 's lymphoma , breast cancer\": ['oxaliplatin'],\n",
       " 'mesothelioma and non-small cell lung cancer': ['oxaliplatin'],\n",
       " 'non-small cell lung cancer': ['combination with paclitaxel and carboplatin'],\n",
       " 'advanced hormone refractory prostate cancer': ['combination with paclitaxel and carboplatin'],\n",
       " 'primary lung cancer': ['resection'],\n",
       " 'adenocarcinoma': ['resection'],\n",
       " 'squamous cell carcinoma': ['resection'],\n",
       " 'stage iii nsclc': ['chemotherapy administered before surgery'],\n",
       " 'primary cancer': ['adjuvant radiation therapy', 'immunotherapy'],\n",
       " 'advanced non -- small-cell lung cancer': ['paclitaxel plus carboplatin ( pc )',\n",
       "  'vinorelbine plus cisplatin ( vc )'],\n",
       " 'extensive disease': ['platinum dose ( cisplatin plus carboplatin ) in combination chemotherapy',\n",
       "  'combination therapy with carboplatin alone'],\n",
       " 'neutropenia during cancer': ['chemotherapy'],\n",
       " 'head and neck cancer': ['intravenous amifostine'],\n",
       " ' xerostomia': ['intravenous amifostine'],\n",
       " 'acute myocardial infarction': ['thrombolytic therapy'],\n",
       " 'psoriasis': ['topical application of active vitamin d3 analogue , 1 alpha , 24-dihydroxycholecalciferol'],\n",
       " 'disseminated malignant melanoma': ['leukocyte a recombinant interferon ( rifn-alpha'],\n",
       " 'advanced stage ( tnm iib-ivb ) mycosis fungoides': ['a combination chemotherapy program consisting of bleomycin and methotrexate weekly , doxorubicin every'],\n",
       " 'ventricular tachycardia': ['guiding surgical therapy'],\n",
       " 'spinal adhesive arachnoiditis': ['surgical management'],\n",
       " 'bronchiectasis': ['antibiotics and surgery', 'current surgical therapy'],\n",
       " 'biliary colic symptoms': ['cholecystectomy'],\n",
       " 'biliary dyskinesia': ['cholecystectomy'],\n",
       " 'the common cold': ['pseudoephedrine plus acetaminophen'],\n",
       " 'asthma': ['fluticasone propionate', 'several inhaled corticosteroids'],\n",
       " 'acute nasopharyngitis ( anp )': ['antibiotic treatment'],\n",
       " 'symptoms of a common cold': ['macrolide antibiotics'],\n",
       " 'rhinovirus colds': ['clarithromycin'],\n",
       " 'rhinovirus': ['clarithromycin'],\n",
       " 'infection': ['a combination of omeprazole , amoxicillin , and clarithromycin'],\n",
       " 'persistent asthma': ['contemporary asthma management guidelines list inhaled corticosteroids'],\n",
       " 'chronic hepatitis c': ['combination therapy with interferon-alpha ( ifn alpha ) plus ribavirin'],\n",
       " 'hepatitis c viremia': ['combination therapy'],\n",
       " 'severe hypoxemia': ['glucocorticoid pulse therapy'],\n",
       " 'peritoneal tumors': ['subcutaneous injection of irradiated llc-il2'],\n",
       " 'acute occlusion of the middle cerebral artery': ['thrombolytic therapy'],\n",
       " 'inflammatory and autoimmune diseases': ['high-dose intravenous immunoglobulin ( hdivig )'],\n",
       " 'phaeochromocytoma': ['adrenalectomy'],\n",
       " 'malignant melanoma': ['interferon alfa-2a'],\n",
       " 'advanced renal cell carcinoma': ['various interferon alpha preparations',\n",
       "  'interferon alfa-n1 , interferon alfa-2a , and interferon alfa-2b'],\n",
       " \"low-grade non-hodgkin 's lymphoma\": ['interferon alpha'],\n",
       " 'partial seizures': ['lamotrigine ( ltg )', 'lamotrigine monotherapy'],\n",
       " 'esophageal achalasia': ['botulinum toxin injection , pneumatic dilation , and laparoscopic myotomy'],\n",
       " 'irritable bowel syndrome': ['chinese herbal medicine'],\n",
       " 'proximal hypospadias': ['tubularized incised plate hypospadias repair'],\n",
       " 'tumors': ['immunotherapy'],\n",
       " 'mitomycin-resistant bladder cancer': ['photodynamic therapy in combination with mitomycin c'],\n",
       " 'b16 melanoma': ['adenosine triphosphate and treatment with buthionine sulfoximine'],\n",
       " 'primary uveal melanoma': ['transpupillary thermotherapy'],\n",
       " 'acute cerebral ischemia': ['antiplatelet therapy'],\n",
       " 'renal cell carcinoma': ['interferon treatment'],\n",
       " 'myocardial angiogenesis': ['gene therapy'],\n",
       " 'autoimmune hemolytic anemia': ['heparin'],\n",
       " 'epithelial ovarian cancer': ['high-dose chemotherapy'],\n",
       " 'atrial fibrillation': ['antiplatelet therapy'],\n",
       " 'moderately symptomatic benign prostatic hyperplasia': ['surgical resection'],\n",
       " 'acoustic neuroma': ['stereotactic radiosurgery'],\n",
       " 'postvitrectomy diabetic vitreous hemorrhage': ['peripheral retinal cryotherapy'],\n",
       " 'hepatitis b': ['vaccine containing mf59'],\n",
       " 'severe secondary peritonitis': ['surgical management'],\n",
       " 'hepatic metastases from colorectal cancer': ['hepatic arterial infusion of chemotherapy after resection']}"
      ]
     },
     "execution_count": 47,
     "metadata": {},
     "output_type": "execute_result"
    }
   ],
   "source": [
    "# Cleaned version of \"disease_treatment\" dictionary\n",
    "cleaned_dict = {}\n",
    "for key in disease_treatment.keys():\n",
    "    if disease_treatment[key] != []:\n",
    "        cleaned_dict[key] = disease_treatment[key]\n",
    "cleaned_dict"
   ]
  },
  {
   "cell_type": "code",
   "execution_count": 48,
   "id": "0f013707",
   "metadata": {},
   "outputs": [
    {
     "data": {
      "text/html": [
       "<div>\n",
       "<style scoped>\n",
       "    .dataframe tbody tr th:only-of-type {\n",
       "        vertical-align: middle;\n",
       "    }\n",
       "\n",
       "    .dataframe tbody tr th {\n",
       "        vertical-align: top;\n",
       "    }\n",
       "\n",
       "    .dataframe thead th {\n",
       "        text-align: right;\n",
       "    }\n",
       "</style>\n",
       "<table border=\"1\" class=\"dataframe\">\n",
       "  <thead>\n",
       "    <tr style=\"text-align: right;\">\n",
       "      <th></th>\n",
       "      <th>Disease</th>\n",
       "      <th>Treatments</th>\n",
       "    </tr>\n",
       "  </thead>\n",
       "  <tbody>\n",
       "    <tr>\n",
       "      <th>0</th>\n",
       "      <td>breast cancer</td>\n",
       "      <td>[hormone replacement therapy, undergone subcut...</td>\n",
       "    </tr>\n",
       "    <tr>\n",
       "      <th>1</th>\n",
       "      <td>ovarian cancer</td>\n",
       "      <td>[hormone replacement therapy, undergone subcut...</td>\n",
       "    </tr>\n",
       "    <tr>\n",
       "      <th>2</th>\n",
       "      <td>prostate cancer</td>\n",
       "      <td>[radical prostatectomy and iodine 125 intersti...</td>\n",
       "    </tr>\n",
       "    <tr>\n",
       "      <th>3</th>\n",
       "      <td>mutated prostate cancer</td>\n",
       "      <td>[radical prostatectomy and iodine 125 intersti...</td>\n",
       "    </tr>\n",
       "    <tr>\n",
       "      <th>4</th>\n",
       "      <td>hereditary retinoblastoma</td>\n",
       "      <td>[radiotherapy]</td>\n",
       "    </tr>\n",
       "  </tbody>\n",
       "</table>\n",
       "</div>"
      ],
      "text/plain": [
       "                     Disease  \\\n",
       "0              breast cancer   \n",
       "1             ovarian cancer   \n",
       "2            prostate cancer   \n",
       "3    mutated prostate cancer   \n",
       "4  hereditary retinoblastoma   \n",
       "\n",
       "                                          Treatments  \n",
       "0  [hormone replacement therapy, undergone subcut...  \n",
       "1  [hormone replacement therapy, undergone subcut...  \n",
       "2  [radical prostatectomy and iodine 125 intersti...  \n",
       "3  [radical prostatectomy and iodine 125 intersti...  \n",
       "4                                     [radiotherapy]  "
      ]
     },
     "execution_count": 48,
     "metadata": {},
     "output_type": "execute_result"
    }
   ],
   "source": [
    "# Converting dictionary to a dataframe\n",
    "cleaned_df = pd.DataFrame({\"Disease\":cleaned_dict.keys(),\"Treatments\":cleaned_dict.values()})\n",
    "cleaned_df.head()"
   ]
  },
  {
   "cell_type": "markdown",
   "id": "0c0e096b",
   "metadata": {},
   "source": [
    "### Predict the treatment for the disease name: 'hereditary retinoblastoma'"
   ]
  },
  {
   "cell_type": "code",
   "execution_count": 49,
   "id": "1fd19556",
   "metadata": {},
   "outputs": [
    {
     "name": "stdout",
     "output_type": "stream",
     "text": [
      "Treatments for 'hereditary retinoblastoma' is/are 'radiotherapy'\n"
     ]
    }
   ],
   "source": [
    "search_item = 'hereditary retinoblastoma'\n",
    "treatments = cleaned_dict[search_item]\n",
    "print(\"Treatments for '{0}' is/are \".format(search_item), end = \"\")\n",
    "for i in range(len(treatments)-1):\n",
    "    print(\"'{}'\".format(treatments[i]),\",\", end=\"\")\n",
    "print(\"'{}'\".format(treatments[-1]))"
   ]
  },
  {
   "cell_type": "code",
   "execution_count": null,
   "id": "4ba6e3e5",
   "metadata": {},
   "outputs": [],
   "source": []
  }
 ],
 "metadata": {
  "kernelspec": {
   "display_name": "Python 3 (ipykernel)",
   "language": "python",
   "name": "python3"
  },
  "language_info": {
   "codemirror_mode": {
    "name": "ipython",
    "version": 3
   },
   "file_extension": ".py",
   "mimetype": "text/x-python",
   "name": "python",
   "nbconvert_exporter": "python",
   "pygments_lexer": "ipython3",
   "version": "3.11.4"
  }
 },
 "nbformat": 4,
 "nbformat_minor": 5
}
